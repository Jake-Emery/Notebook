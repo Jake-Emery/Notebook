{
 "cells": [
  {
   "cell_type": "markdown",
   "id": "1ee195bd",
   "metadata": {},
   "source": [
    "# Data Science Tools and Ecosystem"
   ]
  },
  {
   "cell_type": "markdown",
   "id": "745757e0",
   "metadata": {},
   "source": [
    "## Author \n",
    "Jake Emery"
   ]
  },
  {
   "cell_type": "markdown",
   "id": "c2b17b8d",
   "metadata": {},
   "source": [
    "In this notebook, Data Science Tools and Ecosystem are summarized"
   ]
  },
  {
   "cell_type": "markdown",
   "id": "35fdce61",
   "metadata": {},
   "source": [
    "**Objectives:** \n",
    "* List popular languages for data science\n",
    "* List data science libraries\n",
    "* List data science tools"
   ]
  },
  {
   "cell_type": "markdown",
   "id": "6b89fde8",
   "metadata": {},
   "source": [
    "Some of the popular languages that Data Scientists use are: \n",
    "1. Python\n",
    "2. R \n",
    "3. SQL "
   ]
  },
  {
   "cell_type": "markdown",
   "id": "b0a4b20e",
   "metadata": {},
   "source": [
    "Some of the commonly used libraries used by Data Scientists include:\n",
    "1. Pandas\n",
    "2. NumPy \n",
    "3. Matplotlib"
   ]
  },
  {
   "cell_type": "markdown",
   "id": "7f3713a8",
   "metadata": {},
   "source": [
    "|Data Science tools | \n",
    "|-------------------|\n",
    "|R Studio|\n",
    "|GitHub|\n",
    "|Python|\n",
    "\n"
   ]
  },
  {
   "cell_type": "markdown",
   "id": "6d180dda",
   "metadata": {},
   "source": [
    "### Below are a few examples of evaluating arithmetic expressions in Python"
   ]
  },
  {
   "cell_type": "code",
   "execution_count": 2,
   "id": "57718b71",
   "metadata": {},
   "outputs": [
    {
     "data": {
      "text/plain": [
       "17"
      ]
     },
     "execution_count": 2,
     "metadata": {},
     "output_type": "execute_result"
    }
   ],
   "source": [
    "# This is a simple arithmetic expression to multiple then add integers\n",
    "(3*4) + 5 "
   ]
  },
  {
   "cell_type": "code",
   "execution_count": 3,
   "id": "35d329f6",
   "metadata": {},
   "outputs": [
    {
     "data": {
      "text/plain": [
       "3.3333333333333335"
      ]
     },
     "execution_count": 3,
     "metadata": {},
     "output_type": "execute_result"
    }
   ],
   "source": [
    "# This will convert 200 minutes to hours by dividing by 60\n",
    "200 / 60"
   ]
  }
 ],
 "metadata": {
  "kernelspec": {
   "display_name": "Python 3 (ipykernel)",
   "language": "python",
   "name": "python3"
  },
  "language_info": {
   "codemirror_mode": {
    "name": "ipython",
    "version": 3
   },
   "file_extension": ".py",
   "mimetype": "text/x-python",
   "name": "python",
   "nbconvert_exporter": "python",
   "pygments_lexer": "ipython3",
   "version": "3.9.7"
  }
 },
 "nbformat": 4,
 "nbformat_minor": 5
}
